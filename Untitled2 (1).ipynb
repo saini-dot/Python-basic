{
  "nbformat": 4,
  "nbformat_minor": 0,
  "metadata": {
    "colab": {
      "provenance": []
    },
    "kernelspec": {
      "name": "python3",
      "display_name": "Python 3"
    },
    "language_info": {
      "name": "python"
    }
  },
  "cells": [
    {
      "cell_type": "markdown",
      "source": [
        "Q1 What is Python, and why is it popular\n",
        "\n",
        "  -Python is a high-level, interpreted programming language known for its simplicity and readability. It was created by Guido van Rossum and first released in 1991. Python emphasizes code readability with its clean syntax and indentation-based structure, making it easier to learn and use.\n",
        "\n",
        "🔥 Why is Python Popular?\n",
        "\n",
        ".Easy to Learn & Readable – Uses simple English-like syntax.\n",
        ".Versatile & Multi-purpose – Can be used for web development, data science, .\n",
        "  automation, AI/ML, and more.\n",
        ".Huge Community & Libraries – A vast number of pre-built libraries and .\n",
        "  frameworks (e.g., NumPy, Pandas, TensorFlow).\n",
        ".Cross-Platform Compatibility – Works on Windows, macOS, and Linux"
      ],
      "metadata": {
        "id": "z450G9VhFMMq"
      }
    },
    {
      "cell_type": "markdown",
      "source": [
        "Q2 What is an interpreter in Python\n",
        "\n",
        "- In Python, an interpreter is a program that executes Python code line by  \n",
        "  line, converting it into machine-readable instructions at runtime. Unlike compiled languages (e.g., C or Java), Python does not require a separate compilation step—making development faster and more flexible."
      ],
      "metadata": {
        "id": "sTJ4jjNIF8rm"
      }
    },
    {
      "cell_type": "markdown",
      "source": [
        "Q3 What are pre-defined keywords in Python\n",
        "\n",
        "  -Pre-defined keywords in Python are reserved words that have a special meaning in the language. You cannot use them as variable names, function names, or identifiers because they are part of Python’s syntax.\n",
        "    \n",
        "   - some per define keyword\n",
        "  .if, elif, else → Conditional statements\n",
        "\n",
        "  .for, while, break, continue → Loops and loop control\n",
        "\n",
        "  .try, except, finally, raise → Exception handling\n"
      ],
      "metadata": {
        "id": "yfRPZCV7GlPR"
      }
    },
    {
      "cell_type": "markdown",
      "source": [
        "Q4 Can keywords be used as variable names\n",
        "\n",
        "  -No, keywords cannot be used as variable names in Python because they have predefined meanings and are part of the language’s syntax. If you try to use a keyword as a variable name, Python will throw a SyntaxError.\n",
        "\n",
        "  "
      ],
      "metadata": {
        "id": "UmUGgALsHztK"
      }
    },
    {
      "cell_type": "code",
      "source": [
        "if = 10  #  SyntaxError: invalid syntax\n",
        "print(if)\n"
      ],
      "metadata": {
        "colab": {
          "base_uri": "https://localhost:8080/",
          "height": 106
        },
        "id": "z179AqoyIIWp",
        "outputId": "e265e2e6-64bf-484c-c46d-e9e4d651b238"
      },
      "execution_count": 1,
      "outputs": [
        {
          "output_type": "error",
          "ename": "SyntaxError",
          "evalue": "invalid syntax (<ipython-input-1-94245cf10651>, line 1)",
          "traceback": [
            "\u001b[0;36m  File \u001b[0;32m\"<ipython-input-1-94245cf10651>\"\u001b[0;36m, line \u001b[0;32m1\u001b[0m\n\u001b[0;31m    if = 10  # ❌ SyntaxError: invalid syntax\u001b[0m\n\u001b[0m       ^\u001b[0m\n\u001b[0;31mSyntaxError\u001b[0m\u001b[0;31m:\u001b[0m invalid syntax\n"
          ]
        }
      ]
    },
    {
      "cell_type": "markdown",
      "source": [
        "Q5 What is mutability in Python\n",
        "  \n",
        "  -Mutability in Python refers to whether an object can be modified after creation.\n",
        "\n",
        "Mutable objects → Can be changed after creation (e.g., lists, dictionaries).\n",
        "Immutable objects → Cannot be changed after creation (e.g., tuples, strings)."
      ],
      "metadata": {
        "id": "isO17kDjITqo"
      }
    },
    {
      "cell_type": "markdown",
      "source": [],
      "metadata": {
        "id": "f87pHYwCIQ_E"
      }
    },
    {
      "cell_type": "markdown",
      "source": [
        "Q6 Why are lists mutable, but tuples are immutable\n",
        "\n",
        "  -Lists are mutable, while tuples are immutable, because of their fundamental design in Python:\n",
        "\n",
        "   Lists are designed for dynamic operations\n",
        "\n",
        "  .Lists allow modification (adding, removing, and changing elements).\n",
        "   They store references to objects, and these references can be changed.\n",
        "   Since lists are used for data that frequently changes, mutability is required.\n",
        "\n",
        "   Tuples are designed for fixed data\n",
        "\n",
        "   .Tuples act like read-only lists.\n",
        "\n",
        "  They store references to objects, but these references cannot be changed after creation.\n",
        "  Tuples are optimized for performance because immutability allows Python to store them in a more efficient way (e.g., caching or using them as dictionary keys) ."
      ],
      "metadata": {
        "id": "i_OKOc1JIvV2"
      }
    },
    {
      "cell_type": "markdown",
      "source": [
        "Q7 What is the difference between “==” and “is” operators in Python\n",
        "\n",
        "   -In Python, == and is are both comparison operators, but they serve different purposes:\n",
        "\n",
        "1. == (Equality Operator)\n",
        "\n",
        "  .Checks if values of two objects are equal.\n",
        "\n",
        "  .It does not check whether they are the same object in memory\n",
        "\n",
        "  "
      ],
      "metadata": {
        "id": "_WYsP-i4JhyV"
      }
    },
    {
      "cell_type": "code",
      "source": [
        "a = [1, 2, 3]\n",
        "b = [1, 2, 3]\n",
        "print(a == b)  # True (because values are the same)\n"
      ],
      "metadata": {
        "colab": {
          "base_uri": "https://localhost:8080/"
        },
        "id": "a1yIxgkDJ9IA",
        "outputId": "5dafadcb-2d3d-4e39-8da1-8135348dd986"
      },
      "execution_count": 2,
      "outputs": [
        {
          "output_type": "stream",
          "name": "stdout",
          "text": [
            "True\n"
          ]
        }
      ]
    },
    {
      "cell_type": "markdown",
      "source": [
        "2. is (Identity Operator)\n",
        "\n",
        "   .Checks if two variables refer to the same object in memory (i.e., they have the same identity).\n",
        "\n",
        "   .Even if two objects have the same values, is will return False unless they are actually the same object.\n",
        "   "
      ],
      "metadata": {
        "id": "g6xvVP5UKCVz"
      }
    },
    {
      "cell_type": "markdown",
      "source": [
        "Q8  What are logical operators in Python\n",
        "\n",
        "  -Logical Operators in Python\n",
        "  Logical operators in Python are used to perform Boolean logic operations. They return True or False based on conditions.\n",
        "\n",
        "   1. and (Logical AND) Returns True only if both conditions are True, otherwise returns False.bold text\n"
      ],
      "metadata": {
        "id": "ANjCprtkKX57"
      }
    },
    {
      "cell_type": "code",
      "source": [
        "x = 5\n",
        "y = 10\n",
        "print(x > 3 and y < 20)  # True (Both conditions are True)\n",
        "print(x > 3 and y > 20)  # False (One condition is False)\n"
      ],
      "metadata": {
        "colab": {
          "base_uri": "https://localhost:8080/"
        },
        "id": "wPxPWAWhK4lr",
        "outputId": "8be0a4f1-96a1-4b0d-9d92-2ae0e5f3f5b5"
      },
      "execution_count": 3,
      "outputs": [
        {
          "output_type": "stream",
          "name": "stdout",
          "text": [
            "True\n",
            "False\n"
          ]
        }
      ]
    },
    {
      "cell_type": "markdown",
      "source": [
        "Q9 What is type casting in Python\n",
        "\n",
        "  -Type Casting in Python (Without Code)\n",
        "Type casting, also known as type conversion, is the process of changing a variable from one data type to another.\n",
        "\n",
        "  1.Types of Type Casting:\n",
        "   Implicit Type Casting (Automatic)\n",
        "\n",
        "  .Python automatically converts a smaller data type to a larger one when needed.\n",
        "\n",
        "Example: When adding an integer and a float, Python converts the integer into a float automatically.\n",
        "\n",
        "2.Explicit Type Casting (Manual)\n",
        "\n",
        "  .The programmer manually converts one data type to another using functions like int(), float(), str(), list(), etc.\n",
        "\n",
        "   .Example: Converting a number into a string to concatenate it with text."
      ],
      "metadata": {
        "id": "Jo5M-mFMLbxK"
      }
    },
    {
      "cell_type": "markdown",
      "source": [
        "Q10 What is the difference between implicit and explicit type casting\n",
        "\n",
        "  -Difference Between Implicit and Explicit Type Casting in Python\n",
        "\n",
        "Feature\tImplicit Type Casting\tExplicit Type Casting\n",
        "\n",
        "\n",
        "    Definition\t Automatic conversion by Python when there is no data loss.\n",
        "    \tManual conversion done by the programmer using type conversion functions.\n",
        "\n",
        "    Control-\t Handled by Python automatically.\tControlled by the programmer.\n",
        "\n",
        "    Risk of Data Loss-\tNo risk, as Python only performs safe conversions.\n",
        "          Possible data loss (e.g., converting float to int removes decimals).\n",
        "\n",
        "    Example Scenario -\tAdding an integer and a float—Python converts the integer to float automatically.\n",
        "\n",
        "                    Converting a string into an integer to perform calculations.\n",
        "Common Conversions\tInt → Float, Float → Complex (safe conversions).\n",
        "\n",
        "   .\tString → Integer, Float → Integer, List → Tuple, etc."
      ],
      "metadata": {
        "id": "416lVkSRMOtL"
      }
    },
    {
      "cell_type": "markdown",
      "source": [
        "Q11  What is the purpose of conditional statements in Python\n",
        "\n",
        "  -Purpose of Conditional Statements in Python\n",
        "Conditional statements are used to make decisions in a Python program. They allow the program to execute different blocks of code based on specific conditions."
      ],
      "metadata": {
        "id": "BgS7RQedNop0"
      }
    },
    {
      "cell_type": "markdown",
      "source": [
        "Q12  How does the elif statement work\n",
        "\n",
        "  -How elif Works:\n",
        "\n",
        "    .The program checks the if condition first.\n",
        "    .If if is False, it moves to the first elif condition.\n",
        "    .If that elif condition is False, it moves to the next elif, and so on.\n",
        "    .If none of the if or elif conditions are True, the else block (if  \n",
        "     provided) executes."
      ],
      "metadata": {
        "id": "JFHGl1k-ODXa"
      }
    },
    {
      "cell_type": "markdown",
      "source": [
        "Q13 What is the difference between for and while loops\n",
        "\n",
        "  -Difference Between for and while Loops in Python\n",
        "Both for and while loops are used for repeating a block of code, but they work differently.\n",
        "\n",
        "     Feature\t        for Loop\t              while Loop\n",
        "    Use Case\t        Used when the number of iterations is known or when\n",
        "                         looping over a sequence (list, string, range, etc.).\n",
        "    \n",
        "                       Used when the number of iterations is unknown and\n",
        "                         depends on a condition being True.\n",
        "\n",
        "    Condition     \tLoops through a sequence until all items are covere.\n",
        "                  \tLoops as long as the condition remains True.\n",
        "\n",
        "    Best For     \tIterating over lists, tuples, strings, or ranges.\n",
        "                   Running loops until a condition changes dynamically.\n"
      ],
      "metadata": {
        "id": "5uAD12XHOlU_"
      }
    },
    {
      "cell_type": "markdown",
      "source": [
        "Q14  Describe a scenario where a while loop is more suitable than a for loop  \n",
        "\n",
        "  -Scenario Where a while Loop is More Suitable Than a for Loop\n",
        "     Scenario: User Login System\n",
        "\n",
        "  .Imagine you are building a login system where the user must enter the correct password to access their account.\n",
        "  \n",
        "   Since you don’t know how many attempts the user will take, a while loop is the better choice.\n",
        "\n",
        "  -Why Use a while Loop?\n",
        "\n",
        "  The number of attempts is unknown in advance.\n",
        "\n",
        "# The loop should continue until the correct password is entered. A for loop\n",
        "# isn’t ideal because it runs a fixed number of times, while here, we need to\n",
        "# loop until a condition is met %% [markdown] %%"
      ],
      "metadata": {
        "id": "C2pC7RCyP35i"
      }
    },
    {
      "cell_type": "markdown",
      "source": [],
      "metadata": {
        "id": "9due0J3eK-nl"
      }
    },
    {
      "cell_type": "code",
      "execution_count": null,
      "metadata": {
        "id": "KMATlafIFG78"
      },
      "outputs": [],
      "source": []
    }
  ]
}